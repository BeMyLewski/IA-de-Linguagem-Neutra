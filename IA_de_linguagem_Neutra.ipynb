{
  "nbformat": 4,
  "nbformat_minor": 0,
  "metadata": {
    "colab": {
      "provenance": [],
      "authorship_tag": "ABX9TyNYBlpIbhTPtahIBJhL33kt",
      "include_colab_link": true
    },
    "kernelspec": {
      "name": "python3",
      "display_name": "Python 3"
    },
    "language_info": {
      "name": "python"
    }
  },
  "cells": [
    {
      "cell_type": "markdown",
      "metadata": {
        "id": "view-in-github",
        "colab_type": "text"
      },
      "source": [
        "<a href=\"https://colab.research.google.com/github/Giovanni-Ornellas/IA-de-Linguagem-Neutra/blob/develop/IA_de_linguagem_Neutra.ipynb\" target=\"_parent\"><img src=\"https://colab.research.google.com/assets/colab-badge.svg\" alt=\"Open In Colab\"/></a>"
      ]
    },
    {
      "cell_type": "code",
      "execution_count": null,
      "metadata": {
        "id": "-7vXSkD7IGrp"
      },
      "outputs": [],
      "source": [
        "## 💾 Como Salvar este Notebook no GitHub\n",
        "\n",
        "Para manter o versionamento deste projeto e colaborar com a equipe, siga os passos abaixo para salvar este notebook diretamente no seu repositório GitHub:\n",
        "\n",
        "1. Vá até o menu superior e clique em **Arquivo > Salvar uma cópia no GitHub**.\n",
        "2. Escolha o repositório desejado e, se quiser, uma pasta específica.\n",
        "3. Escreva uma mensagem clara de commit, por exemplo: `\"Atualiza pré-processamento de texto para linguagem neutra\"`.\n",
        "4. Clique em **OK** para fazer o commit.\n",
        "\n",
        "🔁 **Sempre que fizer alterações importantes**, salve no GitHub para manter o histórico e facilitar o trabalho em equipe!\n",
        "\n",
        "> ✅ Este notebook deve ser versionado no repositório oficial:\n",
        "> https://github.com/Giovanni-Ornellas/IA-de-Linguagem-Neutra/tree/develop\n",
        "> Se não tiver acesso, solicite permissão.\n",
        "\n",
        "Sempre salve na branch develop até que esteja, pois a main só será usada para salvar versões estáveis do código!\n",
        "---\n"
      ]
    }
  ]
}